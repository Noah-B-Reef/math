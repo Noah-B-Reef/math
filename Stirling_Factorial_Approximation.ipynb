{
  "nbformat": 4,
  "nbformat_minor": 0,
  "metadata": {
    "colab": {
      "name": "Stirling Factorial Approximation.ipynb",
      "provenance": [],
      "collapsed_sections": [],
      "authorship_tag": "ABX9TyOloE9SqybXYgHsqB3nwxCU",
      "include_colab_link": true
    },
    "kernelspec": {
      "name": "python3",
      "display_name": "Python 3"
    },
    "language_info": {
      "name": "python"
    }
  },
  "cells": [
    {
      "cell_type": "markdown",
      "metadata": {
        "id": "view-in-github",
        "colab_type": "text"
      },
      "source": [
        "<a href=\"https://colab.research.google.com/github/Noah-B-Reef/math/blob/main/Stirling_Factorial_Approximation.ipynb\" target=\"_parent\"><img src=\"https://colab.research.google.com/assets/colab-badge.svg\" alt=\"Open In Colab\"/></a>"
      ]
    },
    {
      "cell_type": "markdown",
      "source": [
        "# The Stirling Approximation\n",
        "\n",
        "Normal we define the *factorial function* as,\n",
        "\n",
        "\\begin{equation*}\n",
        "n! = n * (n-1) * (n - 2) * \\dots * 1 = \\prod_{k = 0}^{n-1}(n - k)\n",
        "\\end{equation*}\n",
        "\n",
        "which is a form of the *gamma function*,\n",
        "\n",
        "\\begin{equation*}\n",
        "\\Gamma(z) = \\int_0^{\\infty}x^{z-1}e^{-x}dx\n",
        "\\end{equation*}\n",
        "\n",
        "where $\\Re(z) > 0$ and\n",
        "\n",
        "\\begin{equation*}\n",
        "\\Gamma(n) = 1 * 2 * 3 * \\dots * (n-1) = (n-1)!\n",
        "\\end{equation*}\n",
        "\n",
        "Then we see that,\n",
        "\\begin{align*}\n",
        "n! &= \\int_0^{∞}x^ne^{-x}dx \\\\\n",
        "   &= \\int_0^{\\infty}e^{n\\ln x - x}dx \\\\\n",
        "   &= e^{n \\ln n}n \\int_0^{\\infty}e^{n(\\ln y - y)}dy \\\\\n",
        "   &\\sim \\sqrt{\\frac{2\\pi}{n}}e^{-n} = \\sqrt{2\\pi n}\\left (\\frac{n}{e} \\right )^n  \n",
        "\\end{align*}\n",
        "\n",
        "the approximation of which comes from *Laplace's Method*."
      ],
      "metadata": {
        "id": "2YC_i7Qv8ed1"
      }
    },
    {
      "cell_type": "code",
      "source": [
        "# import required libraries\n",
        "import numpy as np\n",
        "import matplotlib.pyplot as plt"
      ],
      "metadata": {
        "id": "_lrgAhRf_04J"
      },
      "execution_count": null,
      "outputs": []
    },
    {
      "cell_type": "code",
      "execution_count": null,
      "metadata": {
        "id": "nDx9A_YP7xLp"
      },
      "outputs": [],
      "source": [
        "# Recursive Definition of Factorial Function\n",
        "\n",
        "def factorial(n):\n",
        "  if n == 1 or n == 0:\n",
        "    return 1\n",
        "  else:\n",
        "    return n * factorial(n - 1)\n"
      ]
    },
    {
      "cell_type": "code",
      "source": [
        "X = np.arange(25)\n",
        "\n",
        "factorial = np.frompyfunc(factorial, 1, 1)\n",
        "y1 = factorial(X)\n",
        "y2 = np.sqrt(2 * np.pi * X) * (X/np.e)**X\n",
        "\n",
        "plt.figure(figsize=(7,7))\n",
        "\n",
        "plt.plot(X, y1,  'r-', label = 'n!',)\n",
        "plt.plot(X, y2,'go', label = r'$\\sqrt{2\\pi n}\\left (\\frac{n}{e} \\right )^n$')\n",
        "\n",
        "plt.title(\"Factorial Approximation vs Stirling Approximation\")\n",
        "plt.xlabel(\"n\")\n",
        "plt.ylabel(\"n!\")\n",
        "\n",
        "\n",
        "plt.legend()\n",
        "plt.show()"
      ],
      "metadata": {
        "colab": {
          "base_uri": "https://localhost:8080/",
          "height": 458
        },
        "id": "wt8mV4lZ_o2p",
        "outputId": "10696210-3229-44ae-a9ad-427c6c618f67"
      },
      "execution_count": null,
      "outputs": [
        {
          "output_type": "display_data",
          "data": {
            "text/plain": [
              "<Figure size 504x504 with 1 Axes>"
            ],
            "image/png": "[encoded data removed]"
          },
          "metadata": {
            "needs_background": "light"
          }
        }
      ]
    },
    {
      "cell_type": "markdown",
      "source": [
        "We can see that the *Stirling Approximation* is a pretty good *Approximation* (LAUGH) of the *factorial function* (WOW)"
      ],
      "metadata": {
        "id": "srXqay1YELol"
      }
    }
  ]
}