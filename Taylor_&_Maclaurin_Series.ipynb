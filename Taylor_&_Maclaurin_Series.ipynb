{
  "nbformat": 4,
  "nbformat_minor": 0,
  "metadata": {
    "colab": {
      "name": "Taylor & Maclaurin Series.ipynb",
      "provenance": [],
      "collapsed_sections": [],
      "authorship_tag": "ABX9TyMIGL9ELAX0zFZ0VTlg2ZG2",
      "include_colab_link": true
    },
    "kernelspec": {
      "name": "python3",
      "display_name": "Python 3"
    },
    "language_info": {
      "name": "python"
    }
  },
  "cells": [
    {
      "cell_type": "markdown",
      "metadata": {
        "id": "view-in-github",
        "colab_type": "text"
      },
      "source": [
        "<a href=\"https://colab.research.google.com/github/Noah-B-Reef/math/blob/main/Taylor_%26_Maclaurin_Series.ipynb\" target=\"_parent\"><img src=\"https://colab.research.google.com/assets/colab-badge.svg\" alt=\"Open In Colab\"/></a>"
      ]
    },
    {
      "cell_type": "markdown",
      "source": [
        "# Taylor and Maclaurin Series\n",
        "\n",
        "Suppose we have a function, $\\cos{x}$ for example, and we wish to approximate it by some polynomial. This is the heart of what *Taylor Series* aim to do. Now you might be asking how exactly do we get started with such an endeavor? Simple start by making them equal each other at specific point, say $x = 0$. We know that,\n",
        "\n",
        "\\begin{equation*}\n",
        "\\cos{0} = 1\n",
        "\\end{equation*}\n",
        "\n",
        "so that our polynomial $f(x)$ should then be,\n",
        "\n",
        "\\begin{equation*}\n",
        "f(0) = 1\n",
        "\\end{equation*}\n"
      ],
      "metadata": {
        "id": "gDgIR2EsnNKK"
      }
    },
    {
      "cell_type": "code",
      "execution_count": null,
      "metadata": {
        "id": "zikKXN91m5cr"
      },
      "outputs": [],
      "source": [
        "# import required libraries\n",
        "import numpy as np\n",
        "import math\n",
        "import matplotlib.pyplot as plt\n",
        "from sympy import *"
      ]
    },
    {
      "cell_type": "code",
      "source": [
        "# 0th Derivative of Cosine \n",
        "@np.vectorize\n",
        "def f_0(X):\n",
        "  return 1\n",
        "\n",
        "@np.vectorize\n",
        "def f_2(X):\n",
        "  return -0.5 * X ** 2\n",
        "\n",
        "@np.vectorize\n",
        "def f_4(X):\n",
        "  return (1/np.math.factorial(4)) * X ** 4"
      ],
      "metadata": {
        "id": "lCeW0sODHcEp"
      },
      "execution_count": null,
      "outputs": []
    },
    {
      "cell_type": "code",
      "source": [
        "# set plot paramters\n",
        "xmin = -5\n",
        "xmax = 5\n",
        "ymin = -2\n",
        "ymax = 2\n",
        "\n",
        "ax = plt.gca()\n",
        "ax.set_xlim([xmin, xmax])\n",
        "ax.set_ylim([ymin, ymax])\n",
        "\n",
        "plt.xlabel(\"x\")\n",
        "plt.ylabel(\"y\")"
      ],
      "metadata": {
        "id": "usQmyMBqYqzy"
      },
      "execution_count": null,
      "outputs": []
    },
    {
      "cell_type": "code",
      "source": [
        "# taylor expansion of Cosine \n",
        "X = np.arange(-5,5,0.1)\n",
        "Y = np.cos(X)\n",
        "\n",
        "plt.plot(X,Y)\n",
        "plt.plot(X, f_0(X))\n",
        "plt.show()"
      ],
      "metadata": {
        "colab": {
          "base_uri": "https://localhost:8080/",
          "height": 265
        },
        "id": "dxSzySAonIOL",
        "outputId": "ec218023-cb7d-4a19-f828-66c5ceaf3483"
      },
      "execution_count": null,
      "outputs": [
        {
          "output_type": "display_data",
          "data": {
            "text/plain": [
              "<Figure size 432x288 with 1 Axes>"
            ],
            "image/png": "[encoded data removed]"
          },
          "metadata": {
            "needs_background": "light"
          }
        }
      ]
    },
    {
      "cell_type": "markdown",
      "source": [
        "Now it doesn't seem yet that $f(x)$ and $\\cos{x}$ are yet close to one another, so let's match their *first derivative* also,\n",
        "\\begin{equation*}\n",
        "\\frac{d}{dx}\\cos{x} = -\\sin{x}\n",
        "\\end{equation*}\n",
        "and,\n",
        "\\begin{equation*}\n",
        "-\\sin{0} = 0\n",
        "\\end{equation*}\n",
        "so $f'(0) = 0$ which stays true for,\n",
        "\n",
        "\\begin{equation*}\n",
        "f(x) = 1\n",
        "\\end{equation*}\n",
        "\n",
        "which is not too interesting, so lets continue and take the *second derivative*\n",
        "\\begin{equation*}\n",
        "\\frac{d^2}{dx^2}\\cos{x} = -\\cos{x}\n",
        "\\end{equation*}\n",
        "\n",
        "so,\n",
        "\n",
        "\\begin{equation*}\n",
        "-\\cos{0} = -1\n",
        "\\end{equation*}\n",
        "\n",
        "and,\n",
        "\n",
        "\\begin{equation*}\n",
        "f''(0) = -1\n",
        "\\end{equation*}\n",
        "\n",
        "note that originally,\n",
        "\n",
        "\\begin{equation*}\n",
        "f(x) = 1\n",
        "\\end{equation*}\n",
        "\n",
        "but after the first derivative,\n",
        "\n",
        "\\begin{equation*}\n",
        "f'(x) = 0\n",
        "\\end{equation*}\n",
        "\n",
        "so in order to make it match let's just add an $x$ of degree $2$ such that it stays,\n",
        "\n",
        "\\begin{equation*}\n",
        "f(x) = 1 + x^2\n",
        "\\end{equation*}\n",
        "\n",
        "such that,\n",
        "\n",
        "\\begin{equation*}\n",
        "f'(x) = 2x\n",
        "\\end{equation*}\n",
        "and,\n",
        "\\begin{equation*}\n",
        "f''(x) = 2\n",
        "\\end{equation*}\n",
        "\n",
        "but that isn't quite $-1$ so lets divide by $2$ and make it negative as well so,\n",
        "\n",
        "\\begin{equation*}\n",
        "f(x) = 1 - \\frac{x^2}{2}\n",
        "\\end{equation*}\n",
        "\n",
        "now let's see how well this polynomial approximates $\\cos{x}$,"
      ],
      "metadata": {
        "id": "3WO12kaXLrIU"
      }
    },
    {
      "cell_type": "code",
      "source": [
        "# taylor expansion of Cosine \n",
        "\n",
        "X = np.arange(-5,5,0.1)\n",
        "Y = np.cos(X)\n",
        "\n",
        "plt.plot(X,Y)\n",
        "\n",
        "X = np.arange(-2,2, 0.1)\n",
        "plt.plot(X, f_0(X) + f_2(X))\n",
        "plt.show()"
      ],
      "metadata": {
        "id": "nn2bR2zlqO1D",
        "colab": {
          "base_uri": "https://localhost:8080/",
          "height": 265
        },
        "outputId": "18213d0b-c5eb-4dfe-f588-737154e68319"
      },
      "execution_count": null,
      "outputs": [
        {
          "output_type": "display_data",
          "data": {
            "text/plain": [
              "<Figure size 432x288 with 1 Axes>"
            ],
            "image/png": "[encoded data removed]"
          },
          "metadata": {
            "needs_background": "light"
          }
        }
      ]
    },
    {
      "cell_type": "markdown",
      "source": [
        "now that's a better approximation, let's keep going! The $3$rd derivative will also be $0$ for *Cosine*, so we will instead look at the $4th$ derivative,\n",
        "\n",
        "\n",
        "\\begin{equation*}\n",
        "\\frac{d^4}{dx^4}\\cos{x} = \\cos{x}\n",
        "\\end{equation*}\n",
        "\n",
        "and,\n",
        "\n",
        "\\begin{equation*}\n",
        "\\cos{0} = 1\n",
        "\\end{equation*}\n",
        "\n",
        "so,\n",
        "\n",
        "\\begin{equation*}\n",
        "f^{(4)}(0) = 1\n",
        "\\end{equation*}\n",
        "\n",
        "so let's add an $x$ for degree $4$ so that it sticks around,\n",
        "\n",
        "\\begin{align*}\n",
        "&f(x) = 1 - \\frac{x^2}{2} + x^4 \\\\ \\\\\n",
        "&f'(x) = -x + 4x^3 \\\\ \\\\\n",
        "&f''(x) = -1 + (4)(3)x^2 \\\\ \\\\\n",
        "&f^{(3)}(x) = (4)(3)(2)x \\\\ \\\\\n",
        "&f^{(4)}(x) = (4)(3)(2)(1)\n",
        "\\end{align*}\n",
        "\n",
        "so let's divide by $4!$ so that $f^{(4)}(0) = 1$, so our final polynomial is,\n",
        "\n",
        "\\begin{equation*}\n",
        "f(x) =  1 - \\frac{x^2}{2!} + \\frac{x^4}{4!}\n",
        "\\end{equation*}\n",
        "\n",
        "note, that the factorial function,\n",
        "\n",
        "\\begin{equation*}\n",
        "n! = n(n-1)(n-2)\\dots 1\n",
        "\\end{equation*}\n",
        "so,\n",
        "\\begin{equation*}\n",
        "4! = 4(4-1)(4-2)\\dots 1 = (4)(3)(2)(1) = 24\n",
        "\\end{equation*}\n",
        "\n",
        "Now once again we return to our curve fitting process,"
      ],
      "metadata": {
        "id": "3d_o77dlTPMe"
      }
    },
    {
      "cell_type": "code",
      "source": [
        "# taylor expansion of Cosine \n",
        "xmin = -5\n",
        "xmax = 5\n",
        "ymin = -2\n",
        "ymax = 2\n",
        "\n",
        "ax = plt.gca()\n",
        "ax.set_xlim([xmin, xmax])\n",
        "ax.set_ylim([ymin, ymax])\n",
        "\n",
        "X = np.arange(-5,5,0.1)\n",
        "Y = np.cos(X)\n",
        "\n",
        "plt.plot(X,Y)\n",
        "\n",
        "plt.plot(X, f_0(X) + f_2(X) + f_4(X))\n",
        "plt.show()"
      ],
      "metadata": {
        "colab": {
          "base_uri": "https://localhost:8080/",
          "height": 269
        },
        "id": "CIu5WZymXh5W",
        "outputId": "69d896c8-7382-44f5-802f-4dcf2150e16b"
      },
      "execution_count": null,
      "outputs": [
        {
          "output_type": "display_data",
          "data": {
            "text/plain": [
              "<Figure size 432x288 with 1 Axes>"
            ],
            "image/png": "[encoded data removed]"
          },
          "metadata": {
            "needs_background": "light"
          }
        }
      ]
    },
    {
      "cell_type": "markdown",
      "source": [
        "Now we see that we are getting closer and closer to curve of $cosine$ and in general our polynomial is,\n",
        "\n",
        "\\begin{equation*}\n",
        "f(x) = 1 - \\frac{x^2}{2!} + \\frac{x^4}{4!} - \\frac{x^6}{6!} + \\dots = \\sum_{n=0}^{\\infty}\\frac{(-1)^{2n}x^{2n}}{(2n)!}\n",
        "\\end{equation*}\n",
        "\n",
        "Now in general the *Taylor Series* is denoted as,\n",
        "\n",
        "\\begin{equation*}\n",
        "f(x_o) = f(x_o) + f'(x)(x-x_o) +  \\frac{f^{(2)}(x)}{2!} (x-x_o)^2 + \\dots = \\sum_{n=0}^{\\infty}\\frac{f^{(n)}(x)}{n!}(x-x_o)^n\n",
        "\\end{equation*}\n",
        "where $x_o$ is the centering point, in our example we chose $x_o = 0$. Actually in the case the centering point is $x_o = 0$, it is often called a *Maclaurin Series*.\n",
        "\n",
        "Ultimately it may be best to think of the *Taylor Series* as a curve fitting exercise where we are trying to match each derivative of the function we are interested in approximating at a particular centering point $x_o$, and getting a better and better approximation each time in the limit."
      ],
      "metadata": {
        "id": "Y17GtJm7ZKz_"
      }
    }
  ]
}