{
  "nbformat": 4,
  "nbformat_minor": 0,
  "metadata": {
    "colab": {
      "name": "Collatz_Conjecture.ipynb",
      "provenance": [],
      "collapsed_sections": [],
      "mount_file_id": "1XiJ8KpMqLMcpraSvlotsGrnmHA3C9x6b",
      "authorship_tag": "ABX9TyM5/heXNqMzRyRC3Y/brpD+",
      "include_colab_link": true
    },
    "kernelspec": {
      "name": "python3",
      "display_name": "Python 3"
    },
    "language_info": {
      "name": "python"
    }
  },
  "cells": [
    {
      "cell_type": "markdown",
      "metadata": {
        "id": "view-in-github",
        "colab_type": "text"
      },
      "source": [
        "<a href=\"https://colab.research.google.com/github/Noah-B-Reef/math/blob/main/Collatz_Conjecture.ipynb\" target=\"_parent\"><img src=\"https://colab.research.google.com/assets/colab-badge.svg\" alt=\"Open In Colab\"/></a>"
      ]
    },
    {
      "cell_type": "markdown",
      "metadata": {
        "id": "urVrGxJPV52C"
      },
      "source": [
        "# The Collatz Conjecture\n",
        "The Collatz Conjecture is defined for sequences that are as follows: \"Start with a positive integer $n$, the next term of the seuqence is obtained from the previous as follows: If the previous term is **odd**, the next term is $3$ times the previous term plus $1$, if the previous term is **even**, the next term is half the previous term.\" The *Collatz Conjecture* postis all non-negative integers $n$ , will resolve to '1'. We call any $n$ that resolves to '1' a *Collatz Number*. The following code will calculate the sequence for the first 50 $n$:"
      ]
    },
    {
      "cell_type": "code",
      "metadata": {
        "colab": {
          "base_uri": "https://localhost:8080/",
          "height": 330
        },
        "id": "WsgtuYE1V5OK",
        "outputId": "a7b50966-9cb7-43af-cb32-8325978e77de"
      },
      "source": [
        "# Install Required Dependenicies\n",
        "import matplotlib.pyplot as plt\n",
        "from matplotlib import ticker\n",
        "import numpy as np\n",
        "import math\n",
        "\n",
        "# Intializes the starting positive integer 'n'\n",
        "n = 14\n",
        "\n",
        "# Create a sequence list to store terms of the sequence and alterable copy of 'n' as 'num'\n",
        "sequence = []\n",
        "num = n\n",
        "\n",
        "# Adds the first number of the sequence to the 'sequence' list\n",
        "sequence.append(int(num))\n",
        "\n",
        "# Iterates through the procedure until num is '1'\n",
        "while num > 1:\n",
        "\n",
        "  # If even divide by two\n",
        "  if num % 2 == 0:\n",
        "    num /= 2\n",
        "\n",
        "  # If odd multiply by 3 and add 1\n",
        "  else:\n",
        "    num = 3*num + 1\n",
        "\n",
        "  # Add new number to the sequence\n",
        "  sequence.append(int(num))\n",
        "\n",
        "\n",
        "# Plots each element of the sequence with its respective step.\n",
        "y = sequence\n",
        "plt.xlabel('k')\n",
        "plt.ylabel('$n_k$')\n",
        "plt.title(\"Sequence for $n_1 = \" + str(n) + \"$\")\n",
        "ax = plt.gca()\n",
        "ax.plot(y, 'b', marker=\"o\",markeredgecolor=\"red\", markerfacecolor=\"green\")\n",
        "\n",
        "#- define your own locator based on ticker.LinearLocator\n",
        "class MyLocator(ticker.LinearLocator):\n",
        "   def tick_values(self, vmin, vmax):\n",
        "       \"vmin and vmax are the axis limits, return the tick locations here\"\n",
        "       return [int(vmin), int(0.5 * (vmin + vmax)), int(vmax)]\n",
        "\n",
        "#- initiate the locator and attach it to the current axis\n",
        "ML = MyLocator()\n",
        "ax.yaxis.set_major_locator(ML)\n",
        "plt.show()\n",
        "print(sequence)\n",
        "print(\"Resolved to '1' in \" + str(len(sequence) - 1) + \" steps!\")"
      ],
      "execution_count": null,
      "outputs": [
        {
          "output_type": "display_data",
          "data": {
            "image/png": "[encoded data removed]",
            "text/plain": [
              "<Figure size 432x288 with 1 Axes>"
            ]
          },
          "metadata": {
            "needs_background": "light"
          }
        },
        {
          "output_type": "stream",
          "name": "stdout",
          "text": [
            "[14, 7, 22, 11, 34, 17, 52, 26, 13, 40, 20, 10, 5, 16, 8, 4, 2, 1]\n",
            "Resolved to '1' in 17 steps!\n"
          ]
        }
      ]
    },
    {
      "cell_type": "code",
      "metadata": {
        "id": "CigAvBQHpI_j",
        "colab": {
          "base_uri": "https://localhost:8080/",
          "height": 353
        },
        "outputId": "396e287e-79f5-46e4-e7bd-8a57f40cad76"
      },
      "source": [
        "# Plots the number of steps till one for each Collatz Number on a Bar Graph\n",
        "n = 1\n",
        "stopping = 100\n",
        "sequences_length = []\n",
        "while n <= stopping:\n",
        "  sequence = []\n",
        "  num = n\n",
        "  sequence.append(int(num))\n",
        "  while num > 1:\n",
        "    if num % 2 == 0:\n",
        "      num /= 2\n",
        "    else:\n",
        "      num = 3*num + 1\n",
        "    sequence.append(int(num))\n",
        "  sequences_length.append(len(sequence) - 1)\n",
        "  n += 1\n",
        "\n",
        "print(sequences_length)\n",
        "\n",
        "# Plots each element of the sequence with its respective step.\n",
        "y = sequences_length\n",
        "plt.xlabel('$n_1$')\n",
        "plt.ylabel('$S$ (# of Steps till Resolve)')\n",
        "plt.title(\"Number of Steps for $n_1 = k$\")\n",
        "ax = plt.gca()\n",
        "ax.bar(range(1,len(sequences_length) + 1), y)\n"
      ],
      "execution_count": null,
      "outputs": [
        {
          "output_type": "stream",
          "name": "stdout",
          "text": [
            "[0, 1, 7, 2, 5, 8, 16, 3, 19, 6, 14, 9, 9, 17, 17, 4, 12, 20, 20, 7, 7, 15, 15, 10, 23, 10, 111, 18, 18, 18, 106, 5, 26, 13, 13, 21, 21, 21, 34, 8, 109, 8, 29, 16, 16, 16, 104, 11, 24, 24, 24, 11, 11, 112, 112, 19, 32, 19, 32, 19, 19, 107, 107, 6, 27, 27, 27, 14, 14, 14, 102, 22, 115, 22, 14, 22, 22, 35, 35, 9, 22, 110, 110, 9, 9, 30, 30, 17, 30, 17, 92, 17, 17, 105, 105, 12, 118, 25, 25, 25]\n"
          ]
        },
        {
          "output_type": "execute_result",
          "data": {
            "text/plain": [
              "<BarContainer object of 100 artists>"
            ]
          },
          "metadata": {},
          "execution_count": 20
        },
        {
          "output_type": "display_data",
          "data": {
            "image/png": "[encoded data removed]",
            "text/plain": [
              "<Figure size 432x288 with 1 Axes>"
            ]
          },
          "metadata": {
            "needs_background": "light"
          }
        }
      ]
    },
    {
      "cell_type": "markdown",
      "metadata": {
        "id": "GwW2MEch0nVk"
      },
      "source": [
        "# Some Things Worth Considering\n",
        "We can see that any **even** number can be represented as $n_{even} = 2t$ and any **odd** number can be represented as $n_{odd} = 2t + 1$, where $t \\in \\mathbb{N}$. It is also easy to see that all $n_1 = 2^{t}$ we resolve to $1$ in $t$ steps. \n",
        "\n",
        "## *Proof 1.1*\n",
        "Suppose that $n_1 = 2^t$ that is,\n",
        "\\begin{equation*}\n",
        "n_1 = 2 (2^{t-1})\n",
        "\\end{equation*}\n",
        "Hence we see that $n_1$ is *even*, thus the $n_{2}$ is calculated by\n",
        "\\begin{equation*}\n",
        "n_2 = \\frac{2(2^{t-1})}{2} = 2^{t-1} = 2(2^{t-2})\n",
        "\\end{equation*}\n",
        "Hence we see that $n_2$ is *even* and thus $n_3$ is calculated by\n",
        "\\begin{equation*}\n",
        "n_3 = \\frac{2(2^{t-2})}{2} = 2^{t-2} = 2(2^{t-3})\n",
        "\\end{equation*}\n",
        "We continue this process until\n",
        "\\begin{equation*}\n",
        "n_{t+1} = \\frac{2(2^{t - t})}{2} = 2^{0} = 1\n",
        "\\end{equation*}\n",
        "Thus we see it takes $t$ steps until $n_1 = 2^t$ resolves to '1'\n",
        "\n",
        "One way to easily disprove the *Collatz Conjecture* would be to prove the existence of sequence that continually increased. \n",
        "\n",
        "## *Proof 1.2*\n",
        "Suppose $n_k$ is an *odd* number, that is\n",
        "\\begin{equation*}\n",
        "n_k = 2t + 1\n",
        "\\end{equation*}\n",
        "where $t$ is a non-negative integer. The $n_{k + 1}$ term is calculated by the follwing,\n",
        "\\begin{equation*}\n",
        "n_{k+1} = 3(n_k) + 1\n",
        "\\end{equation*}\n",
        "\\begin{equation*}\n",
        "n_{k+1} = 3(2t + 1) + 1\n",
        "\\end{equation*}\n",
        "\\begin{equation*}\n",
        "n_{k+1} = 6t + 4 = 2(3t + 2)\n",
        "\\end{equation*}\n",
        "thus if we let $t' = 3t + 2$ we see that\n",
        "\\begin{equation*}\n",
        "n_{k+1} = 2t'\n",
        "\\end{equation*}\n",
        "Hence we see that $n_{k+1}$ is an *even* number."
      ]
    },
    {
      "cell_type": "code",
      "metadata": {
        "id": "NaAn_B-RSLjs"
      },
      "source": [
        "# Writes data for different n_1's and steps to Google Sheets file\n",
        "import gspread\n",
        "from oauth2client.service_account import ServiceAccountCredentials\n",
        "from pprint import pprint\n",
        "import time\n",
        "\n",
        "scope = [\"https://spreadsheets.google.com/feeds\",'https://www.googleapis.com/auth/spreadsheets',\"https://www.googleapis.com/auth/drive.file\",\"https://www.googleapis.com/auth/drive\"]\n",
        "\n",
        "creds = ServiceAccountCredentials.from_json_keyfile_name(\"/content/drive/MyDrive/Collatz Conjecture Material/collatz-conjecture-330523-e4d83bb8eb5c.json\", scope)\n",
        "\n",
        "client = gspread.authorize(creds)\n",
        "\n",
        "sheet = client.open(\"Collatz Conjecture Data\").sheet1\n",
        "\n",
        "data = sheet.get_all_records()\\\n",
        "\n",
        "# Writes steps of sequences_length to google sheets file\n",
        "for i in range(1749,len(sequences_length)):\n",
        "  time.sleep(2)\n",
        "  insertRow = [i+1, sequences_length[i]]\n",
        "  sheet.insert_row(insertRow, i+1)\n",
        "\n"
      ],
      "execution_count": null,
      "outputs": []
    },
    {
      "cell_type": "code",
      "metadata": {
        "id": "A7cymKgQNU2p",
        "colab": {
          "base_uri": "https://localhost:8080/",
          "height": 579
        },
        "outputId": "2ca6f08d-b487-453f-c79f-4a79b8eb5d49"
      },
      "source": [
        "# Manipulates and Analyizes data from CSV file of the Google Sheets file\n",
        "import numpy as np\n",
        "import pandas as pd\n",
        "\n",
        "data = pd.read_csv(\"/content/drive/MyDrive/Collatz Conjecture Material/Collatz Conjecture Data - Sheet1.csv\")\n",
        "data.info()\n",
        "data.describe()\n",
        "data"
      ],
      "execution_count": null,
      "outputs": [
        {
          "output_type": "stream",
          "name": "stdout",
          "text": [
            "<class 'pandas.core.frame.DataFrame'>\n",
            "RangeIndex: 1999 entries, 0 to 1998\n",
            "Data columns (total 2 columns):\n",
            " #   Column  Non-Null Count  Dtype\n",
            "---  ------  --------------  -----\n",
            " 0   n_1     1999 non-null   int64\n",
            " 1   steps   1999 non-null   int64\n",
            "dtypes: int64(2)\n",
            "memory usage: 31.4 KB\n"
          ]
        },
        {
          "output_type": "execute_result",
          "data": {
            "text/html": [
              "<div>\n",
              "<style scoped>\n",
              "    .dataframe tbody tr th:only-of-type {\n",
              "        vertical-align: middle;\n",
              "    }\n",
              "\n",
              "    .dataframe tbody tr th {\n",
              "        vertical-align: top;\n",
              "    }\n",
              "\n",
              "    .dataframe thead th {\n",
              "        text-align: right;\n",
              "    }\n",
              "</style>\n",
              "<table border=\"1\" class=\"dataframe\">\n",
              "  <thead>\n",
              "    <tr style=\"text-align: right;\">\n",
              "      <th></th>\n",
              "      <th>n_1</th>\n",
              "      <th>steps</th>\n",
              "    </tr>\n",
              "  </thead>\n",
              "  <tbody>\n",
              "    <tr>\n",
              "      <th>0</th>\n",
              "      <td>2</td>\n",
              "      <td>1</td>\n",
              "    </tr>\n",
              "    <tr>\n",
              "      <th>1</th>\n",
              "      <td>3</td>\n",
              "      <td>7</td>\n",
              "    </tr>\n",
              "    <tr>\n",
              "      <th>2</th>\n",
              "      <td>4</td>\n",
              "      <td>2</td>\n",
              "    </tr>\n",
              "    <tr>\n",
              "      <th>3</th>\n",
              "      <td>5</td>\n",
              "      <td>5</td>\n",
              "    </tr>\n",
              "    <tr>\n",
              "      <th>4</th>\n",
              "      <td>6</td>\n",
              "      <td>8</td>\n",
              "    </tr>\n",
              "    <tr>\n",
              "      <th>...</th>\n",
              "      <td>...</td>\n",
              "      <td>...</td>\n",
              "    </tr>\n",
              "    <tr>\n",
              "      <th>1994</th>\n",
              "      <td>1996</td>\n",
              "      <td>50</td>\n",
              "    </tr>\n",
              "    <tr>\n",
              "      <th>1995</th>\n",
              "      <td>1997</td>\n",
              "      <td>50</td>\n",
              "    </tr>\n",
              "    <tr>\n",
              "      <th>1996</th>\n",
              "      <td>1998</td>\n",
              "      <td>50</td>\n",
              "    </tr>\n",
              "    <tr>\n",
              "      <th>1997</th>\n",
              "      <td>1999</td>\n",
              "      <td>50</td>\n",
              "    </tr>\n",
              "    <tr>\n",
              "      <th>1998</th>\n",
              "      <td>2000</td>\n",
              "      <td>112</td>\n",
              "    </tr>\n",
              "  </tbody>\n",
              "</table>\n",
              "<p>1999 rows × 2 columns</p>\n",
              "</div>"
            ],
            "text/plain": [
              "       n_1  steps\n",
              "0        2      1\n",
              "1        3      7\n",
              "2        4      2\n",
              "3        5      5\n",
              "4        6      8\n",
              "...    ...    ...\n",
              "1994  1996     50\n",
              "1995  1997     50\n",
              "1996  1998     50\n",
              "1997  1999     50\n",
              "1998  2000    112\n",
              "\n",
              "[1999 rows x 2 columns]"
            ]
          },
          "metadata": {},
          "execution_count": 1
        }
      ]
    },
    {
      "cell_type": "code",
      "metadata": {
        "colab": {
          "base_uri": "https://localhost:8080/",
          "height": 301
        },
        "id": "WOyhzUXwkbkg",
        "outputId": "a6c6287f-b84e-4eb1-b04b-3b1214fcb1ff"
      },
      "source": [
        "# Shows that each n_1 = 2**t for some non-negative t\n",
        "numsPowersOfTwo = []\n",
        "stepsForPowerOfTwo = []\n",
        "for i in range(1,len(sequences_length)):\n",
        "  if math.log2(i+1) == sequences_length[i]:\n",
        "    numsPowersOfTwo.append(i+1)\n",
        "    stepsForPowerOfTwo.append(sequences_length[i])\n",
        "\n",
        "t = numsPowersOfTwo\n",
        "s = stepsForPowerOfTwo\n",
        "\n",
        "plt.xlabel('$n_1$')\n",
        "plt.ylabel('$S$ (# of Steps till Resolve)')\n",
        "plt.title(\"Number of Steps for $n_1 = 2^t$\")\n",
        "ax = plt.gca()\n",
        "x = np.arange(1,len(sequences_length))\n",
        "y = np.log2(x)\n",
        "ax.plot(x,y)\n",
        "ax.bar(t,s)\n",
        "plt.show()"
      ],
      "execution_count": null,
      "outputs": [
        {
          "output_type": "display_data",
          "data": {
            "image/png": "[encoded data removed]",
            "text/plain": [
              "<Figure size 432x288 with 1 Axes>"
            ]
          },
          "metadata": {
            "needs_background": "light"
          }
        }
      ]
    },
    {
      "cell_type": "code",
      "metadata": {
        "id": "S0kmyyYRp6FF",
        "colab": {
          "base_uri": "https://localhost:8080/",
          "height": 298
        },
        "outputId": "08537302-4cfd-4705-d8ce-1ab6f340ca0a"
      },
      "source": [
        "# Plots the number of steps for the Even Collatz Numbers\n",
        "h = sequences_length[1::2]\n",
        "x = range(2, (len(sequences_length) + 1),2)\n",
        "plt.xlabel('$n_1$')\n",
        "plt.ylabel('$S$ (# of Steps till Resolve)')\n",
        "plt.title(\"Number of Steps for $n_1 = 2k$\")\n",
        "ax = plt.gca()\n",
        "\n",
        "ax.bar(x, h)\n",
        "plt.show()\n",
        "\n"
      ],
      "execution_count": null,
      "outputs": [
        {
          "output_type": "display_data",
          "data": {
            "image/png": "[encoded data removed]",
            "text/plain": [
              "<Figure size 432x288 with 1 Axes>"
            ]
          },
          "metadata": {
            "needs_background": "light"
          }
        }
      ]
    },
    {
      "cell_type": "code",
      "metadata": {
        "colab": {
          "base_uri": "https://localhost:8080/",
          "height": 298
        },
        "id": "JC6wQvFijJ-W",
        "outputId": "c979461c-a324-4ee7-e351-1a962e0646d6"
      },
      "source": [
        "# Plots the number of steps for the Odd Collatz Numbers\n",
        "z = sequences_length[2::2]\n",
        "w = range(3, (len(sequences_length) + 1),2)\n",
        "plt.xlabel('$n_1$')\n",
        "plt.ylabel('$S$ (# of Steps till Resolve)')\n",
        "plt.title(\"Number of Steps for $n_1 = 2k + 1$\")\n",
        "ax = plt.gca()\n",
        "\n",
        "ax.bar(w, z)\n",
        "plt.show()"
      ],
      "execution_count": null,
      "outputs": [
        {
          "output_type": "display_data",
          "data": {
            "image/png": "[encoded data removed]",
            "text/plain": [
              "<Figure size 432x288 with 1 Axes>"
            ]
          },
          "metadata": {
            "needs_background": "light"
          }
        }
      ]
    }
  ]
}